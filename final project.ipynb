{
 "cells": [
  {
   "cell_type": "markdown",
   "id": "f6d90f7f",
   "metadata": {},
   "source": [
    "### Nama : Daffa Abiyyu"
   ]
  },
  {
   "cell_type": "code",
   "execution_count": 1,
   "id": "cf2aed1c",
   "metadata": {},
   "outputs": [],
   "source": [
    "import pandas as pd\n",
    "import numpy as np\n",
    "import matplotlib.pyplot as plt\n",
    "import seaborn as sns"
   ]
  },
  {
   "cell_type": "code",
   "execution_count": 2,
   "id": "639bd0c3",
   "metadata": {},
   "outputs": [],
   "source": [
    "# import dataset\n",
    "trainset = pd.read_csv('trainset.csv')\n",
    "testset = pd.read_csv('testset.csv')\n",
    "backtestset = pd.read_csv('backtestset.csv')"
   ]
  },
  {
   "cell_type": "markdown",
   "id": "ab02d586",
   "metadata": {},
   "source": [
    "# Data Understanding"
   ]
  },
  {
   "cell_type": "markdown",
   "id": "ffeadd2d",
   "metadata": {},
   "source": [
    "## EDA"
   ]
  },
  {
   "cell_type": "code",
   "execution_count": 3,
   "id": "d97e488b",
   "metadata": {},
   "outputs": [
    {
     "data": {
      "text/html": [
       "<div>\n",
       "<style scoped>\n",
       "    .dataframe tbody tr th:only-of-type {\n",
       "        vertical-align: middle;\n",
       "    }\n",
       "\n",
       "    .dataframe tbody tr th {\n",
       "        vertical-align: top;\n",
       "    }\n",
       "\n",
       "    .dataframe thead th {\n",
       "        text-align: right;\n",
       "    }\n",
       "</style>\n",
       "<table border=\"1\" class=\"dataframe\">\n",
       "  <thead>\n",
       "    <tr style=\"text-align: right;\">\n",
       "      <th></th>\n",
       "      <th>null</th>\n",
       "    </tr>\n",
       "  </thead>\n",
       "  <tbody>\n",
       "    <tr>\n",
       "      <th>penghasilan</th>\n",
       "      <td>1.000000</td>\n",
       "    </tr>\n",
       "    <tr>\n",
       "      <th>education</th>\n",
       "      <td>1.000000</td>\n",
       "    </tr>\n",
       "    <tr>\n",
       "      <th>omset</th>\n",
       "      <td>1.000000</td>\n",
       "    </tr>\n",
       "    <tr>\n",
       "      <th>Penanggung</th>\n",
       "      <td>0.917172</td>\n",
       "    </tr>\n",
       "    <tr>\n",
       "      <th>Usaha</th>\n",
       "      <td>0.859210</td>\n",
       "    </tr>\n",
       "    <tr>\n",
       "      <th>jualan</th>\n",
       "      <td>0.671308</td>\n",
       "    </tr>\n",
       "    <tr>\n",
       "      <th>Pekerjaan</th>\n",
       "      <td>0.236097</td>\n",
       "    </tr>\n",
       "    <tr>\n",
       "      <th>keluarga</th>\n",
       "      <td>0.185369</td>\n",
       "    </tr>\n",
       "    <tr>\n",
       "      <th>gender</th>\n",
       "      <td>0.180486</td>\n",
       "    </tr>\n",
       "    <tr>\n",
       "      <th>umur</th>\n",
       "      <td>0.014558</td>\n",
       "    </tr>\n",
       "    <tr>\n",
       "      <th>punya_produk3</th>\n",
       "      <td>0.014197</td>\n",
       "    </tr>\n",
       "    <tr>\n",
       "      <th>punya_produk4</th>\n",
       "      <td>0.014197</td>\n",
       "    </tr>\n",
       "    <tr>\n",
       "      <th>punya_produk5</th>\n",
       "      <td>0.014197</td>\n",
       "    </tr>\n",
       "    <tr>\n",
       "      <th>punya_produk6</th>\n",
       "      <td>0.014197</td>\n",
       "    </tr>\n",
       "    <tr>\n",
       "      <th>punya_produk2</th>\n",
       "      <td>0.014197</td>\n",
       "    </tr>\n",
       "    <tr>\n",
       "      <th>kota</th>\n",
       "      <td>0.014197</td>\n",
       "    </tr>\n",
       "    <tr>\n",
       "      <th>punya_produk1</th>\n",
       "      <td>0.014197</td>\n",
       "    </tr>\n",
       "  </tbody>\n",
       "</table>\n",
       "</div>"
      ],
      "text/plain": [
       "                   null\n",
       "penghasilan    1.000000\n",
       "education      1.000000\n",
       "omset          1.000000\n",
       "Penanggung     0.917172\n",
       "Usaha          0.859210\n",
       "jualan         0.671308\n",
       "Pekerjaan      0.236097\n",
       "keluarga       0.185369\n",
       "gender         0.180486\n",
       "umur           0.014558\n",
       "punya_produk3  0.014197\n",
       "punya_produk4  0.014197\n",
       "punya_produk5  0.014197\n",
       "punya_produk6  0.014197\n",
       "punya_produk2  0.014197\n",
       "kota           0.014197\n",
       "punya_produk1  0.014197"
      ]
     },
     "execution_count": 3,
     "metadata": {},
     "output_type": "execute_result"
    }
   ],
   "source": [
    "# menampilkan proporsi data kosong pada setiap kolom\n",
    "null_columns = pd.DataFrame(trainset.isna().sum()/len(trainset), columns=['null'])\n",
    "null_columns[null_columns['null']>0].sort_values('null', ascending=False)"
   ]
  },
  {
   "cell_type": "code",
   "execution_count": 4,
   "id": "51ed89ee",
   "metadata": {},
   "outputs": [],
   "source": [
    "# menghapus kolom yang kosong lebih dari 50%\n",
    "trainset.drop(['kode pelanggan', 'penghasilan', 'education', 'omset', 'Penanggung', 'Usaha', 'jualan', 'tgl data'], axis=1, inplace=True)\n",
    "testset.drop(['kode pelanggan', 'penghasilan', 'education', 'omset', 'Penanggung', 'Usaha', 'jualan', 'tgl data'], axis=1, inplace=True)"
   ]
  },
  {
   "cell_type": "code",
   "execution_count": 5,
   "id": "17e727db",
   "metadata": {
    "scrolled": true
   },
   "outputs": [],
   "source": [
    "# mengambil sample trainset sebanyak 10% untuk keperluan EDA\n",
    "trainset_sample = trainset.sample(frac=0.1, random_state=42).reset_index(drop=True)"
   ]
  },
  {
   "cell_type": "code",
   "execution_count": 6,
   "id": "363dbf88",
   "metadata": {},
   "outputs": [],
   "source": [
    "# memisahkan fitur dan target\n",
    "X_train = trainset_sample.drop('flag', axis=1)\n",
    "y_train = trainset_sample['flag']"
   ]
  },
  {
   "cell_type": "code",
   "execution_count": 7,
   "id": "81f62144",
   "metadata": {},
   "outputs": [],
   "source": [
    "# memisahkan data kolom numerik, kolom kategorik, dan kolom kategorik biner\n",
    "cat_columns = ['kota', 'keluarga', 'Pekerjaan']\n",
    "cat_columns_binary = ['gender', 'punya_produk1', 'punya_produk2', 'punya_produk3', 'punya_produk4', 'punya_produk5', 'punya_produk6']\n",
    "\n",
    "X_train_cat = X_train[cat_columns]\n",
    "X_train_cat_binary = X_train[cat_columns_binary]\n",
    "X_train_num = X_train.drop(cat_columns+cat_columns_binary, axis=1)"
   ]
  },
  {
   "cell_type": "code",
   "execution_count": 8,
   "id": "c2477a76",
   "metadata": {},
   "outputs": [],
   "source": [
    "from scipy.stats import skew, skewtest, ttest_ind, f_oneway\n",
    "from numpy.ma.core import mean"
   ]
  },
  {
   "cell_type": "code",
   "execution_count": null,
   "id": "024a420b",
   "metadata": {
    "scrolled": true
   },
   "outputs": [],
   "source": [
    "# EDA univariat kolom numerik\n",
    "for kolom in X_train_num.columns:\n",
    "  fig, ax = plt.subplots(1, 2)\n",
    "  fig.set_figwidth(12)\n",
    "  fig.set_figheight(5)\n",
    "  print(f'kolom : {kolom}')\n",
    "  ax[0].hist(X_train_num[kolom])\n",
    "  sns.boxplot(X_train_num[kolom], ax=ax[1])\n",
    "  plt.show()\n",
    "  mean = X_train_num[kolom].mean()\n",
    "  std = X_train_num[kolom].std()\n",
    "  min = X_train_num[kolom].min()\n",
    "  q1 = X_train_num[kolom].quantile(q=0.25)\n",
    "  q2 = X_train_num[kolom].quantile(q=0.50)\n",
    "  q3 = X_train_num[kolom].quantile(q=0.75)\n",
    "  iqr = q3 - q1\n",
    "  max = X_train_num[kolom].max()\n",
    "  upper_whisker = (X_train_num[kolom][X_train_num[kolom] < q3+1.5*iqr]).max()\n",
    "  lower_whisker = (X_train_num[kolom][X_train_num[kolom] > q1-1.5*iqr]).min()\n",
    "  outlier = X_train_num[kolom][(X_train_num[kolom]>upper_whisker) | (X_train_num[kolom]<lower_whisker)]\n",
    "  print(f'mean : {mean}')\n",
    "  print(f'std : {std}')\n",
    "  print(f'min : {min}')\n",
    "  print(f'q1 : {q1}')\n",
    "  print(f'q2 : {q2}')\n",
    "  print(f'q3 : {q3}')\n",
    "  print(f'iqr : {iqr}')\n",
    "  print(f'max : {max}')\n",
    "  print(f'upper whisker : {upper_whisker}')\n",
    "  print(f'lower whisker : {lower_whisker}')\n",
    "  print(f'outlier\\ncount : {outlier.count()}, proportion : {outlier.count()/len(X_train_num)}')\n",
    "  print(f'skew : {skew(X_train_num[kolom])}')\n",
    "  print(f'skewtest : {skewtest(X_train_num[kolom])}')\n",
    "  print('\\n'+'*'*100+'\\n')"
   ]
  },
  {
   "cell_type": "markdown",
   "id": "780b6124",
   "metadata": {},
   "source": [
    "Hampir semua kolom numerik memiliki jumlah nilai nol yang tinggi. Banyak pelanggan yang tidak memiliki hutang dan tidak melakukan transaksi."
   ]
  },
  {
   "cell_type": "code",
   "execution_count": null,
   "id": "f6335fa0",
   "metadata": {
    "scrolled": true
   },
   "outputs": [],
   "source": [
    "# EDA univariat kolom kategorik\n",
    "for kolom in X_train_cat:\n",
    "  print(f'kolom : {kolom}')\n",
    "  sns.countplot(X_train_cat[kolom])\n",
    "  plt.xticks(rotation=45)\n",
    "  plt.show()\n",
    "  print(X_train_cat[kolom].value_counts())\n",
    "  print('\\n'+'*'*50+'\\n')"
   ]
  },
  {
   "cell_type": "markdown",
   "id": "fdd1e129",
   "metadata": {},
   "source": [
    "Mayoritas dari pelanggan adalah pengusaha dan sudah berkeluarga."
   ]
  },
  {
   "cell_type": "code",
   "execution_count": null,
   "id": "ca678906",
   "metadata": {
    "scrolled": true
   },
   "outputs": [],
   "source": [
    "# EDA univariat kolom kategorik biner\n",
    "for kolom in X_train_cat_binary:\n",
    "  print(f'kolom : {kolom}')\n",
    "  sns.countplot(X_train_cat_binary[kolom])\n",
    "  plt.xticks(rotation=45)\n",
    "  plt.show()\n",
    "  print(X_train_cat_binary[kolom].value_counts())\n",
    "  print('\\n'+'*'*50+'\\n')"
   ]
  },
  {
   "cell_type": "markdown",
   "id": "b882b121",
   "metadata": {},
   "source": [
    "Mayoritas dari pelanggan memiliki produk 3 dan tidak memiliki produk 5."
   ]
  },
  {
   "cell_type": "code",
   "execution_count": null,
   "id": "c6ea0e2d",
   "metadata": {
    "scrolled": true
   },
   "outputs": [],
   "source": [
    "# EDA multivariat kolom numerik-numerik\n",
    "kolom = set()\n",
    "for kolom1 in X_train_num:\n",
    "  for kolom2 in X_train_num:\n",
    "    if kolom1 == kolom2:\n",
    "      pass\n",
    "    else:\n",
    "      if {kolom1, kolom2} in kolom:\n",
    "        pass\n",
    "      else:\n",
    "        print(kolom1, kolom2)\n",
    "        sns.scatterplot(X_train_num[kolom1], X_train_num[kolom2], hue=y_train)\n",
    "        plt.show()\n",
    "        kolom.add(frozenset({kolom1, kolom2}))\n",
    "        print('\\n'+'*'*50+'\\n')"
   ]
  },
  {
   "cell_type": "markdown",
   "id": "00776434",
   "metadata": {},
   "source": [
    "Pola pada scatter plot kolom numerik-numerik sulit diamati karena data terpusat di satu titik namun memiliki rentang yang besar."
   ]
  },
  {
   "cell_type": "code",
   "execution_count": null,
   "id": "2710c82a",
   "metadata": {
    "scrolled": true
   },
   "outputs": [],
   "source": [
    "# EDA multivariat kolom numerik dan target\n",
    "for kolom in X_train_num:\n",
    "  print(f'kolom : {kolom}')\n",
    "  sns.boxplot(x=y_train, y=X_train_num[kolom])\n",
    "  plt.show()\n",
    "  print('\\n'+'*'*50+'\\n')"
   ]
  },
  {
   "cell_type": "markdown",
   "id": "b6a58694",
   "metadata": {},
   "source": [
    "Pola pada box plot kolom kategorik dan target sulit diamati karena data terpusat di satu titik namun memiliki rentang yang besar."
   ]
  },
  {
   "cell_type": "code",
   "execution_count": null,
   "id": "aa533c3c",
   "metadata": {
    "scrolled": true
   },
   "outputs": [],
   "source": [
    "# EDA multivariat kolom kategorik dan target\n",
    "for kolom in X_train_cat:\n",
    "  print(f'kolom : {kolom}')\n",
    "  sns.countplot(X_train_cat[kolom], hue=y_train)\n",
    "  pd.crosstab(X_train_cat[kolom], y_train, normalize='index').plot(kind='bar', stacked=True)\n",
    "  plt.xticks(rotation=45)\n",
    "  plt.show()\n",
    "  print('\\n'+'*'*50+'\\n')"
   ]
  },
  {
   "cell_type": "markdown",
   "id": "7d029243",
   "metadata": {},
   "source": [
    "Jumlah pelanggan yang tidak membeli produk 7 jauh lebih banyak dari pelanggan yang membeli produk 7."
   ]
  },
  {
   "cell_type": "code",
   "execution_count": null,
   "id": "984f8c7a",
   "metadata": {
    "scrolled": true
   },
   "outputs": [],
   "source": [
    "# EDA multivariat kolom kategorik biner dan target\n",
    "for kolom in X_train_cat_binary:\n",
    "  print(f'kolom : {kolom}')\n",
    "  sns.countplot(X_train_cat_binary[kolom], hue=y_train)\n",
    "  pd.crosstab(X_train_cat_binary[kolom], y_train, normalize='index').plot(kind='bar', stacked=True)\n",
    "  plt.xticks(rotation=45)\n",
    "  plt.show()\n",
    "  print('\\n'+'*'*50+'\\n')"
   ]
  },
  {
   "cell_type": "markdown",
   "id": "92684c5a",
   "metadata": {},
   "source": [
    "Jumlah pelanggan yang tidak membeli produk 7 jauh lebih banyak dari pelanggan yang membeli produk 7."
   ]
  },
  {
   "cell_type": "code",
   "execution_count": null,
   "id": "ac94ecc6",
   "metadata": {},
   "outputs": [],
   "source": []
  },
  {
   "cell_type": "markdown",
   "id": "c1d2d708",
   "metadata": {},
   "source": [
    "# Data Peparation"
   ]
  },
  {
   "cell_type": "code",
   "execution_count": 5,
   "id": "f008eb99",
   "metadata": {},
   "outputs": [],
   "source": [
    "# memisahkan fitur dan target\n",
    "## train\n",
    "X_train = trainset.drop('flag', axis=1)\n",
    "y_train = trainset['flag']\n",
    "\n",
    "#test\n",
    "X_test = testset.drop('flag', axis=1)\n",
    "y_test = testset['flag']"
   ]
  },
  {
   "cell_type": "code",
   "execution_count": 6,
   "id": "0e405204",
   "metadata": {},
   "outputs": [
    {
     "data": {
      "text/plain": [
       "0.0    9864\n",
       "1.0    1195\n",
       "Name: flag, dtype: int64"
      ]
     },
     "execution_count": 6,
     "metadata": {},
     "output_type": "execute_result"
    }
   ],
   "source": [
    "# cek proporsi target\n",
    "y_train.value_counts()"
   ]
  },
  {
   "cell_type": "code",
   "execution_count": 7,
   "id": "b51eea1b",
   "metadata": {},
   "outputs": [],
   "source": [
    "from imblearn.under_sampling import RandomUnderSampler\n",
    "rus = RandomUnderSampler(sampling_strategy='majority')"
   ]
  },
  {
   "cell_type": "code",
   "execution_count": 8,
   "id": "079cb9f1",
   "metadata": {},
   "outputs": [],
   "source": [
    "# melakukan undersampling\n",
    "X_train_rus, y_train_rus = rus.fit_resample(X_train, y_train)"
   ]
  },
  {
   "cell_type": "code",
   "execution_count": 9,
   "id": "7d33f474",
   "metadata": {},
   "outputs": [],
   "source": [
    "# memisahkan data kolom numerik, kolom kategorik, dan kolom kategorik biner\n",
    "cat_columns = ['kota', 'keluarga', 'Pekerjaan']\n",
    "cat_columns_binary = ['gender', 'punya_produk1', 'punya_produk2', 'punya_produk3', 'punya_produk4', 'punya_produk5', 'punya_produk6']\n",
    "\n",
    "## train\n",
    "X_train_cat = X_train_rus[cat_columns]\n",
    "X_train_cat_binary = X_train_rus[cat_columns_binary]\n",
    "X_train_num = X_train_rus.drop(cat_columns+cat_columns_binary, axis=1)\n",
    "\n",
    "## test\n",
    "X_test_cat = X_test[cat_columns]\n",
    "X_test_cat_binary = X_test[cat_columns_binary]\n",
    "X_test_num = X_test.drop(cat_columns+cat_columns_binary, axis=1)"
   ]
  },
  {
   "cell_type": "markdown",
   "id": "afb9f013",
   "metadata": {},
   "source": [
    "## Missing Value Handling & Data Cleaning"
   ]
  },
  {
   "cell_type": "code",
   "execution_count": 10,
   "id": "75496c6c",
   "metadata": {},
   "outputs": [],
   "source": [
    "# imputasi data kosong pada kolom numerik\n",
    "## train\n",
    "X_train_num_imputed = X_train_num.fillna(X_train_num.median())\n",
    "\n",
    "## test\n",
    "X_test_num_imputed = X_test_num.fillna(X_train_num.median())"
   ]
  },
  {
   "cell_type": "code",
   "execution_count": 11,
   "id": "40e5d53b",
   "metadata": {},
   "outputs": [],
   "source": [
    "# imputasi data kosong pada kolom kategorik\n",
    "## train\n",
    "X_train_cat_imputed = X_train_cat.copy()\n",
    "for i in X_train_cat.columns:\n",
    "    X_train_cat_imputed[i] = X_train_cat[i].fillna(X_train_cat[i].mode()[0])\n",
    "    \n",
    "## test\n",
    "X_test_cat_imputed = X_test_cat.copy()\n",
    "for i in X_test_cat.columns:\n",
    "    X_test_cat_imputed[i] = X_test_cat[i].fillna(X_train_cat[i].mode()[0])"
   ]
  },
  {
   "cell_type": "code",
   "execution_count": 12,
   "id": "ee6fcbfa",
   "metadata": {},
   "outputs": [],
   "source": [
    "# imputasi data kosong pada kolom kategorik biner\n",
    "## train\n",
    "X_train_cat_binary_imputed = X_train_cat_binary.copy()\n",
    "for i in X_train_cat_binary.columns:\n",
    "    X_train_cat_binary_imputed[i] = X_train_cat_binary[i].fillna(X_train_cat_binary[i].mode()[0])\n",
    "    \n",
    "## test\n",
    "X_test_cat_binary_imputed = X_test_cat_binary.copy()\n",
    "for i in X_test_cat_binary.columns:\n",
    "    X_test_cat_binary_imputed[i] = X_test_cat_binary[i].fillna(X_train_cat_binary[i].mode()[0])"
   ]
  },
  {
   "cell_type": "markdown",
   "id": "ff674b44",
   "metadata": {},
   "source": [
    "# Feature Engineering"
   ]
  },
  {
   "cell_type": "markdown",
   "id": "b1f31756",
   "metadata": {},
   "source": [
    "## Feature Transformation"
   ]
  },
  {
   "cell_type": "code",
   "execution_count": 13,
   "id": "a5f804fd",
   "metadata": {},
   "outputs": [],
   "source": [
    "from sklearn.preprocessing import RobustScaler, OneHotEncoder"
   ]
  },
  {
   "cell_type": "code",
   "execution_count": 14,
   "id": "eb533217",
   "metadata": {},
   "outputs": [],
   "source": [
    "# scaling untuk kolom numerik\n",
    "rscaler = RobustScaler()\n",
    "rscaler.fit(X_train_num_imputed)\n",
    "\n",
    "## train\n",
    "X_train_num_scaled = pd.DataFrame(rscaler.transform(X_train_num_imputed), columns=X_train_num_imputed.columns)\n",
    "\n",
    "## test\n",
    "X_test_num_scaled = pd.DataFrame(rscaler.transform(X_test_num_imputed), columns=X_test_num_imputed.columns)"
   ]
  },
  {
   "cell_type": "code",
   "execution_count": 15,
   "id": "c5ec1b04",
   "metadata": {},
   "outputs": [],
   "source": [
    "# encoding untuk kolom kategorik\n",
    "ohe = OneHotEncoder(handle_unknown='ignore')\n",
    "ohe.fit(X_train_cat_imputed)\n",
    "\n",
    "## train\n",
    "X_train_cat_encoded = pd.DataFrame(ohe.transform(X_train_cat_imputed).toarray())\n",
    "X_train_cat_encoded.columns = ohe.get_feature_names(X_train_cat_imputed.columns)\n",
    "\n",
    "## test\n",
    "X_test_cat_encoded = pd.DataFrame(ohe.transform(X_test_cat_imputed).toarray())\n",
    "X_test_cat_encoded.columns = ohe.get_feature_names(X_test_cat_imputed.columns)"
   ]
  },
  {
   "cell_type": "code",
   "execution_count": 16,
   "id": "e69254fd",
   "metadata": {},
   "outputs": [],
   "source": [
    "# encoding untuk kolom kategorik biner (gender)\n",
    "## train\n",
    "X_train_cat_binary_imputed['gender'].replace(['F', 'M'], [1, 0], inplace=True)\n",
    "\n",
    "## test\n",
    "X_test_cat_binary_imputed['gender'].replace(['F', 'M'], [1, 0], inplace=True)"
   ]
  },
  {
   "cell_type": "code",
   "execution_count": 17,
   "id": "89c72ba2",
   "metadata": {},
   "outputs": [],
   "source": [
    "# menggabungkan kolom numerik, kolom kategorik, dan kolom kategorik biner\n",
    "## train\n",
    "X_train_transformed = pd.concat([X_train_num_scaled, X_train_cat_encoded, X_train_cat_binary_imputed], axis=1)\n",
    "\n",
    "## test\n",
    "X_test_transformed = pd.concat([X_test_num_scaled, X_test_cat_encoded, X_test_cat_binary_imputed], axis=1)"
   ]
  },
  {
   "cell_type": "markdown",
   "id": "3f867882",
   "metadata": {},
   "source": [
    "## Feature Selection"
   ]
  },
  {
   "cell_type": "code",
   "execution_count": 18,
   "id": "a7465326",
   "metadata": {},
   "outputs": [],
   "source": [
    "from sklearn.feature_selection import mutual_info_classif\n",
    "from sklearn.feature_selection import SelectKBest"
   ]
  },
  {
   "cell_type": "code",
   "execution_count": 19,
   "id": "61bf43d1",
   "metadata": {},
   "outputs": [
    {
     "data": {
      "text/plain": [
       "Index(['umur', 'average_sisauang_mingguan_1BT',\n",
       "       'average_sisauang_mingguan_3BT', 'average_sisauang_mingguan_5BT',\n",
       "       'sisauang_akhir_1BT', 'sisauang_akhir_4BT', 'sisauang_tertahan_1BT',\n",
       "       'sisauang_tersedia_2BT', 'sisa_hutang_4BT', 'sisa_hutang_5BT',\n",
       "       'sisa_hutang_6BT', 'jumlah_pembayaran_hutang_1BT',\n",
       "       'jumlah_pengeluaran_3BT', 'jumlah_pengeluaran_4BT',\n",
       "       'jumlah_pengeluaran_6BT', 'jumlah_pemasukan_2BT',\n",
       "       'jumlah_pemasukan_4BT', 'jumlah_pemasukan_5BT', 'jumlah_pemasukan_6BT',\n",
       "       'frekuensi_pengeluaran_1BT', 'frekuensi_pengeluaran_2BT',\n",
       "       'frekuensi_pengeluaran_3BT', 'frekuensi_pengeluaran_4BT',\n",
       "       'frekuensi_pengeluaran_5BT', 'frekuensi_pengeluaran_6BT',\n",
       "       'frekuensi_pemasukan_1BT', 'frekuensi_pemasukan_2BT',\n",
       "       'frekuensi_pemasukan_3BT', 'frekuensi_pemasukan_4BT',\n",
       "       'frekuensi_pemasukan_5BT', 'kota_B', 'kota_C', 'kota_G', 'kota_J',\n",
       "       'kota_P', 'kota_R', 'keluarga_B', 'keluarga_K',\n",
       "       'Pekerjaan_Administrasi Umum / Supervisor',\n",
       "       'Pekerjaan_Executive / Managerial', 'Pekerjaan_Karyawan',\n",
       "       'Pekerjaan_Militer (TNI - AL)', 'Pekerjaan_Pelajar SD / SLTP / SLTA',\n",
       "       'Pekerjaan_Pendidik', 'Pekerjaan_Pengajar/Guru/Dosen  Swasta',\n",
       "       'Pekerjaan_Penganggur/Belum Bekerja/Pencari Kerja',\n",
       "       'Pekerjaan_Pensiunan', 'Pekerjaan_Seniman', 'punya_produk4',\n",
       "       'punya_produk6'],\n",
       "      dtype='object')"
      ]
     },
     "execution_count": 19,
     "metadata": {},
     "output_type": "execute_result"
    }
   ],
   "source": [
    "# seleksi 50 fitur terpenting\n",
    "kbest = SelectKBest(score_func = mutual_info_classif, k=50)\n",
    "kbest.fit(X_train_transformed, y_train_rus)\n",
    "X_train_transformed.columns[kbest.get_support()]"
   ]
  },
  {
   "cell_type": "code",
   "execution_count": 20,
   "id": "b1ed215c",
   "metadata": {},
   "outputs": [],
   "source": [
    "# menyimpan dataframe hasil seleksi fitur kedalam variabel baru\n",
    "## train\n",
    "X_train_selected = X_train_transformed[X_train_transformed.columns[kbest.get_support()]]\n",
    "\n",
    "## test\n",
    "X_test_selected = X_test_transformed[X_test_transformed.columns[kbest.get_support()]]"
   ]
  },
  {
   "cell_type": "markdown",
   "id": "023ecb41",
   "metadata": {},
   "source": [
    "# Modeling"
   ]
  },
  {
   "cell_type": "code",
   "execution_count": 21,
   "id": "2ad7240a",
   "metadata": {},
   "outputs": [],
   "source": [
    "from sklearn.ensemble import RandomForestClassifier"
   ]
  },
  {
   "cell_type": "code",
   "execution_count": 22,
   "id": "b8298d32",
   "metadata": {},
   "outputs": [
    {
     "data": {
      "text/plain": [
       "RandomForestClassifier()"
      ]
     },
     "execution_count": 22,
     "metadata": {},
     "output_type": "execute_result"
    }
   ],
   "source": [
    "# membuat model random forest\n",
    "rf = RandomForestClassifier()\n",
    "rf.fit(X_train_selected, y_train_rus)"
   ]
  },
  {
   "cell_type": "code",
   "execution_count": 23,
   "id": "3e7d6aad",
   "metadata": {},
   "outputs": [],
   "source": [
    "# prediksi dengan model random forest\n",
    "## train\n",
    "y_train_pred_rf = rf.predict(X_train_selected)\n",
    "\n",
    "##test\n",
    "y_test_pred_rf = rf.predict(X_test_selected)"
   ]
  },
  {
   "cell_type": "code",
   "execution_count": null,
   "id": "ac696e82",
   "metadata": {},
   "outputs": [],
   "source": []
  },
  {
   "cell_type": "code",
   "execution_count": 24,
   "id": "60f226d2",
   "metadata": {},
   "outputs": [],
   "source": [
    "from sklearn.svm import SVC"
   ]
  },
  {
   "cell_type": "code",
   "execution_count": 25,
   "id": "fdae4370",
   "metadata": {},
   "outputs": [
    {
     "data": {
      "text/plain": [
       "SVC()"
      ]
     },
     "execution_count": 25,
     "metadata": {},
     "output_type": "execute_result"
    }
   ],
   "source": [
    "# membuat model super vector machine\n",
    "svc = SVC()\n",
    "svc.fit(X_train_selected, y_train_rus)"
   ]
  },
  {
   "cell_type": "code",
   "execution_count": 26,
   "id": "28f51bdc",
   "metadata": {},
   "outputs": [],
   "source": [
    "# prediksi dengan model svm\n",
    "## train\n",
    "y_train_pred_svc = svc.predict(X_train_selected)\n",
    "\n",
    "##test\n",
    "y_test_pred_svc = svc.predict(X_test_selected)"
   ]
  },
  {
   "cell_type": "code",
   "execution_count": null,
   "id": "5d44aeb3",
   "metadata": {},
   "outputs": [],
   "source": []
  },
  {
   "cell_type": "markdown",
   "id": "358ecc16",
   "metadata": {},
   "source": [
    "## Hyperparameter Optimization & Cross Validation"
   ]
  },
  {
   "cell_type": "code",
   "execution_count": 27,
   "id": "a4659c04",
   "metadata": {},
   "outputs": [],
   "source": [
    "from sklearn.model_selection import cross_validate\n",
    "from sklearn.metrics import make_scorer, accuracy_score, precision_score, recall_score, f1_score"
   ]
  },
  {
   "cell_type": "code",
   "execution_count": 28,
   "id": "a0fe0763",
   "metadata": {},
   "outputs": [
    {
     "data": {
      "text/plain": [
       "<AxesSubplot:>"
      ]
     },
     "execution_count": 28,
     "metadata": {},
     "output_type": "execute_result"
    },
    {
     "data": {
      "image/png": "[encoded data removed]",
      "text/plain": [
       "<Figure size 432x288 with 1 Axes>"
      ]
     },
     "metadata": {
      "needs_background": "light"
     },
     "output_type": "display_data"
    }
   ],
   "source": [
    "# cross validasi parameter max_depth\n",
    "max_depths = np.arange(3,11,1)\n",
    "train = []\n",
    "valid = []\n",
    "depths = []\n",
    "for i in max_depths:\n",
    "    result = cross_validate(RandomForestClassifier(max_depth=i), \n",
    "                   X_train_selected,\n",
    "                   y_train_rus, \n",
    "                   cv=4, \n",
    "                   return_train_score=True,\n",
    "                   scoring=make_scorer(f1_score, pos_label=1))\n",
    "    train.append(result['train_score'].mean())\n",
    "    valid.append(result['test_score'].mean())\n",
    "    depths.append(i)\n",
    "\n",
    "sns.lineplot(x=depths, y=train, label='train')\n",
    "sns.lineplot(x=depths, y=valid, label='valid')"
   ]
  },
  {
   "cell_type": "code",
   "execution_count": 29,
   "id": "fc1c7e8c",
   "metadata": {},
   "outputs": [
    {
     "data": {
      "text/plain": [
       "<AxesSubplot:>"
      ]
     },
     "execution_count": 29,
     "metadata": {},
     "output_type": "execute_result"
    },
    {
     "data": {
      "image/png": "[encoded data removed]",
      "text/plain": [
       "<Figure size 432x288 with 1 Axes>"
      ]
     },
     "metadata": {
      "needs_background": "light"
     },
     "output_type": "display_data"
    }
   ],
   "source": [
    "# cross validasi parameter min_samples_split\n",
    "min_samples_split = np.arange(2,51,4)\n",
    "train = []\n",
    "valid = []\n",
    "for i in min_samples_split:\n",
    "    result = cross_validate(RandomForestClassifier(max_depth=3,\n",
    "                                                   min_samples_split=i), \n",
    "                   X_train_selected, \n",
    "                   y_train_rus, \n",
    "                   cv=4, \n",
    "                   return_train_score=True,\n",
    "                   scoring=make_scorer(f1_score, pos_label=1))\n",
    "    train.append(result['train_score'].mean())\n",
    "    valid.append(result['test_score'].mean())\n",
    "\n",
    "sns.lineplot(x=min_samples_split, y=train, label='train')\n",
    "sns.lineplot(x=min_samples_split, y=valid, label='valid', marker='o')"
   ]
  },
  {
   "cell_type": "code",
   "execution_count": 30,
   "id": "5a1f2207",
   "metadata": {},
   "outputs": [
    {
     "data": {
      "text/plain": [
       "<AxesSubplot:>"
      ]
     },
     "execution_count": 30,
     "metadata": {},
     "output_type": "execute_result"
    },
    {
     "data": {
      "image/png": "[encoded data removed]",
      "text/plain": [
       "<Figure size 432x288 with 1 Axes>"
      ]
     },
     "metadata": {
      "needs_background": "light"
     },
     "output_type": "display_data"
    }
   ],
   "source": [
    "# cross validasi parameter min_samples_leaf\n",
    "min_samples_leaf = np.arange(1,31,1)\n",
    "train = []\n",
    "valid = []\n",
    "for i in min_samples_leaf:\n",
    "    result = cross_validate(RandomForestClassifier(max_depth=3, \n",
    "                                                   min_samples_split=25, \n",
    "                                                   min_samples_leaf=i), \n",
    "                   X_train_selected, \n",
    "                   y_train_rus, \n",
    "                   cv=4, \n",
    "                   return_train_score=True,\n",
    "                   scoring=make_scorer(f1_score, pos_label=1))\n",
    "    train.append(result['train_score'].mean())\n",
    "    valid.append(result['test_score'].mean())\n",
    "\n",
    "sns.lineplot(x=min_samples_leaf, y=train, label='train')\n",
    "sns.lineplot(x=min_samples_leaf, y=valid, label='valid')"
   ]
  },
  {
   "cell_type": "code",
   "execution_count": 31,
   "id": "d7cf7162",
   "metadata": {},
   "outputs": [
    {
     "data": {
      "text/plain": [
       "<AxesSubplot:>"
      ]
     },
     "execution_count": 31,
     "metadata": {},
     "output_type": "execute_result"
    },
    {
     "data": {
      "image/png": "[encoded data removed]",
      "text/plain": [
       "<Figure size 432x288 with 1 Axes>"
      ]
     },
     "metadata": {
      "needs_background": "light"
     },
     "output_type": "display_data"
    }
   ],
   "source": [
    "# cross validasi parameter max_features\n",
    "max_features = np.arange(1,len(X_train_selected.columns)+1)\n",
    "train = []\n",
    "valid = []\n",
    "for i in max_features:\n",
    "    result = cross_validate(RandomForestClassifier(max_depth=3, \n",
    "                                                   min_samples_split=25, \n",
    "                                                   min_samples_leaf=30,\n",
    "                                                   max_features=i), \n",
    "                   X_train_selected, \n",
    "                   y_train_rus, \n",
    "                   cv=4, \n",
    "                   return_train_score=True,\n",
    "                   scoring=make_scorer(f1_score, pos_label=1))\n",
    "    train.append(result['train_score'].mean())\n",
    "    valid.append(result['test_score'].mean())\n",
    "\n",
    "sns.lineplot(x=max_features, y=train, label='train')\n",
    "sns.lineplot(x=max_features, y=valid, label='valid')"
   ]
  },
  {
   "cell_type": "code",
   "execution_count": 32,
   "id": "0decf6f7",
   "metadata": {},
   "outputs": [
    {
     "data": {
      "text/plain": [
       "<AxesSubplot:>"
      ]
     },
     "execution_count": 32,
     "metadata": {},
     "output_type": "execute_result"
    },
    {
     "data": {
      "image/png": "[encoded data removed]",
      "text/plain": [
       "<Figure size 432x288 with 1 Axes>"
      ]
     },
     "metadata": {
      "needs_background": "light"
     },
     "output_type": "display_data"
    }
   ],
   "source": [
    "# cross validasi parameter n_estimators\n",
    "n_estimators = np.arange(10,60,10)\n",
    "train = []\n",
    "valid = []\n",
    "for i in n_estimators:\n",
    "    result = cross_validate(RandomForestClassifier(max_depth=3, \n",
    "                                                   min_samples_split=25, \n",
    "                                                   min_samples_leaf=30,\n",
    "                                                   max_features=35,\n",
    "                                                   n_estimators=i), \n",
    "                   X_train_selected,\n",
    "                   y_train_rus, \n",
    "                   cv=4, \n",
    "                   return_train_score=True,\n",
    "                   scoring=make_scorer(f1_score, pos_label=1))\n",
    "    train.append(result['train_score'].mean())\n",
    "    valid.append(result['test_score'].mean())\n",
    "\n",
    "sns.lineplot(x=n_estimators, y=train, label='train')\n",
    "sns.lineplot(x=n_estimators, y=valid, label='valid')"
   ]
  },
  {
   "cell_type": "code",
   "execution_count": 33,
   "id": "95cb99ab",
   "metadata": {},
   "outputs": [
    {
     "data": {
      "text/plain": [
       "<AxesSubplot:>"
      ]
     },
     "execution_count": 33,
     "metadata": {},
     "output_type": "execute_result"
    },
    {
     "data": {
      "image/png": "[encoded data removed]",
      "text/plain": [
       "<Figure size 432x288 with 1 Axes>"
      ]
     },
     "metadata": {
      "needs_background": "light"
     },
     "output_type": "display_data"
    }
   ],
   "source": [
    "# cross validasi parameter max_samples\n",
    "max_samples = np.arange(0.1,1,0.1)\n",
    "train = []\n",
    "valid = []\n",
    "for i in max_samples:\n",
    "    result = cross_validate(RandomForestClassifier(max_depth=3, \n",
    "                                                   min_samples_split=25, \n",
    "                                                   min_samples_leaf=30,\n",
    "                                                   max_features=35,\n",
    "                                                   n_estimators=50,\n",
    "                                                   max_samples=i), \n",
    "                   X_train_selected,\n",
    "                   y_train_rus, \n",
    "                   cv=4, \n",
    "                   return_train_score=True,\n",
    "                   scoring=make_scorer(f1_score, pos_label=1))\n",
    "    train.append(result['train_score'].mean())\n",
    "    valid.append(result['test_score'].mean())\n",
    "\n",
    "sns.lineplot(x=max_samples, y=train, label='train')\n",
    "sns.lineplot(x=max_samples, y=valid, label='valid')"
   ]
  },
  {
   "cell_type": "code",
   "execution_count": 34,
   "id": "69e6590f",
   "metadata": {},
   "outputs": [],
   "source": [
    "from sklearn.model_selection import GridSearchCV"
   ]
  },
  {
   "cell_type": "code",
   "execution_count": 35,
   "id": "b81d4790",
   "metadata": {},
   "outputs": [],
   "source": [
    "# mencari parameter terbaik\n",
    "param_grid = {'n_estimators':[45,50],\n",
    "              'max_samples':[0.7,0.9],\n",
    "              'max_depth':[3,4],\n",
    "              'min_samples_split':[25, 50],\n",
    "              'min_samples_leaf':[20,30],\n",
    "              'max_features':[10,35]}\n",
    "\n",
    "gscv = GridSearchCV(RandomForestClassifier(), param_grid, cv=4)"
   ]
  },
  {
   "cell_type": "code",
   "execution_count": 36,
   "id": "9b5af9e0",
   "metadata": {},
   "outputs": [
    {
     "data": {
      "text/plain": [
       "GridSearchCV(cv=4, estimator=RandomForestClassifier(),\n",
       "             param_grid={'max_depth': [3, 4], 'max_features': [10, 35],\n",
       "                         'max_samples': [0.7, 0.9],\n",
       "                         'min_samples_leaf': [20, 30],\n",
       "                         'min_samples_split': [25, 50],\n",
       "                         'n_estimators': [45, 50]})"
      ]
     },
     "execution_count": 36,
     "metadata": {},
     "output_type": "execute_result"
    }
   ],
   "source": [
    "gscv.fit(X_train_selected, y_train_rus)"
   ]
  },
  {
   "cell_type": "code",
   "execution_count": 37,
   "id": "869a7519",
   "metadata": {},
   "outputs": [
    {
     "data": {
      "text/plain": [
       "{'max_depth': 4,\n",
       " 'max_features': 35,\n",
       " 'max_samples': 0.7,\n",
       " 'min_samples_leaf': 20,\n",
       " 'min_samples_split': 50,\n",
       " 'n_estimators': 45}"
      ]
     },
     "execution_count": 37,
     "metadata": {},
     "output_type": "execute_result"
    }
   ],
   "source": [
    "gscv.best_params_"
   ]
  },
  {
   "cell_type": "code",
   "execution_count": 38,
   "id": "7fac1635",
   "metadata": {},
   "outputs": [
    {
     "data": {
      "text/plain": [
       "RandomForestClassifier(max_depth=4, max_features=35, max_samples=0.7,\n",
       "                       min_samples_leaf=20, min_samples_split=50,\n",
       "                       n_estimators=45)"
      ]
     },
     "execution_count": 38,
     "metadata": {},
     "output_type": "execute_result"
    }
   ],
   "source": [
    "# membuat model random forest yang telah dioptimasi\n",
    "rf_optimized = RandomForestClassifier(**gscv.best_params_)\n",
    "rf_optimized.fit(X_train_selected, y_train_rus)"
   ]
  },
  {
   "cell_type": "code",
   "execution_count": 39,
   "id": "49d9e48e",
   "metadata": {},
   "outputs": [],
   "source": [
    "# prediksi dengan model random forest yang telah dioptimasi\n",
    "y_train_pred_rf_o = rf_optimized.predict(X_train_selected)\n",
    "y_test_pred_rf_o = rf_optimized.predict(X_test_selected)"
   ]
  },
  {
   "cell_type": "code",
   "execution_count": null,
   "id": "f3d1429f",
   "metadata": {},
   "outputs": [],
   "source": []
  },
  {
   "cell_type": "code",
   "execution_count": 40,
   "id": "f3eef551",
   "metadata": {},
   "outputs": [
    {
     "data": {
      "text/plain": [
       "<AxesSubplot:>"
      ]
     },
     "execution_count": 40,
     "metadata": {},
     "output_type": "execute_result"
    },
    {
     "data": {
      "image/png": "[encoded data removed]",
      "text/plain": [
       "<Figure size 432x288 with 1 Axes>"
      ]
     },
     "metadata": {
      "needs_background": "light"
     },
     "output_type": "display_data"
    }
   ],
   "source": [
    "gamma = np.arange(0.1,1,0.1)\n",
    "train = []\n",
    "valid = []\n",
    "for i in gamma:\n",
    "    result = cross_validate(SVC(kernel='rbf',\n",
    "                                gamma=i), \n",
    "                   X_train_selected,\n",
    "                   y_train_rus, \n",
    "                   cv=4, \n",
    "                   return_train_score=True,\n",
    "                   scoring=make_scorer(f1_score, pos_label=1))\n",
    "    train.append(result['train_score'].mean())\n",
    "    valid.append(result['test_score'].mean())\n",
    "\n",
    "sns.lineplot(x=gamma, y=train, label='train')\n",
    "sns.lineplot(x=gamma, y=valid, label='valid')"
   ]
  },
  {
   "cell_type": "code",
   "execution_count": 41,
   "id": "5bfe6229",
   "metadata": {},
   "outputs": [
    {
     "data": {
      "text/plain": [
       "<AxesSubplot:>"
      ]
     },
     "execution_count": 41,
     "metadata": {},
     "output_type": "execute_result"
    },
    {
     "data": {
      "image/png": "[encoded data removed]",
      "text/plain": [
       "<Figure size 432x288 with 1 Axes>"
      ]
     },
     "metadata": {
      "needs_background": "light"
     },
     "output_type": "display_data"
    }
   ],
   "source": [
    "c = np.arange(0.05,0.8,0.05)\n",
    "train = []\n",
    "valid = []\n",
    "for i in c:\n",
    "    result = cross_validate(SVC(kernel='rbf',\n",
    "                                gamma=0.1,\n",
    "                                C=i), \n",
    "                   X_train_selected,\n",
    "                   y_train_rus, \n",
    "                   cv=4, \n",
    "                   return_train_score=True,\n",
    "                   scoring=make_scorer(f1_score, pos_label=1))\n",
    "    train.append(result['train_score'].mean())\n",
    "    valid.append(result['test_score'].mean())\n",
    "\n",
    "sns.lineplot(x=c, y=train, label='train')\n",
    "sns.lineplot(x=c, y=valid, label='valid')"
   ]
  },
  {
   "cell_type": "code",
   "execution_count": null,
   "id": "aff6b8ef",
   "metadata": {},
   "outputs": [],
   "source": []
  },
  {
   "cell_type": "code",
   "execution_count": 44,
   "id": "dcaebe85",
   "metadata": {},
   "outputs": [
    {
     "data": {
      "text/plain": [
       "<AxesSubplot:>"
      ]
     },
     "execution_count": 44,
     "metadata": {},
     "output_type": "execute_result"
    },
    {
     "data": {
      "image/png": "[encoded data removed]",
      "text/plain": [
       "<Figure size 432x288 with 1 Axes>"
      ]
     },
     "metadata": {
      "needs_background": "light"
     },
     "output_type": "display_data"
    }
   ],
   "source": [
    "degree = [1,2,3]\n",
    "train = []\n",
    "valid = []\n",
    "for i in degree:\n",
    "    result = cross_validate(SVC(kernel='poly',\n",
    "                                degree=i), \n",
    "                   X_train_selected,\n",
    "                   y_train_rus, \n",
    "                   cv=4, \n",
    "                   return_train_score=True,\n",
    "                   scoring=make_scorer(f1_score, pos_label=1))\n",
    "    train.append(result['train_score'].mean())\n",
    "    valid.append(result['test_score'].mean())\n",
    "\n",
    "sns.lineplot(x=degree, y=train, label='train')\n",
    "sns.lineplot(x=degree, y=valid, label='valid')"
   ]
  },
  {
   "cell_type": "code",
   "execution_count": 45,
   "id": "040ce0d3",
   "metadata": {},
   "outputs": [
    {
     "data": {
      "text/plain": [
       "<AxesSubplot:>"
      ]
     },
     "execution_count": 45,
     "metadata": {},
     "output_type": "execute_result"
    },
    {
     "data": {
      "image/png": "[encoded data removed]",
      "text/plain": [
       "<Figure size 432x288 with 1 Axes>"
      ]
     },
     "metadata": {
      "needs_background": "light"
     },
     "output_type": "display_data"
    }
   ],
   "source": [
    "coef0 = np.arange(0.1,1,0.1)\n",
    "train = []\n",
    "valid = []\n",
    "for i in coef0:\n",
    "    result = cross_validate(SVC(kernel='poly',\n",
    "                                degree=1,\n",
    "                                coef0=i), \n",
    "                   X_train_selected,\n",
    "                   y_train_rus, \n",
    "                   cv=4, \n",
    "                   return_train_score=True,\n",
    "                   scoring=make_scorer(f1_score, pos_label=1))\n",
    "    train.append(result['train_score'].mean())\n",
    "    valid.append(result['test_score'].mean())\n",
    "\n",
    "sns.lineplot(x=coef0, y=train, label='train')\n",
    "sns.lineplot(x=coef0, y=valid, label='valid')"
   ]
  },
  {
   "cell_type": "code",
   "execution_count": 46,
   "id": "59992b64",
   "metadata": {},
   "outputs": [
    {
     "data": {
      "text/plain": [
       "SVC(C=0.1, gamma=0.1)"
      ]
     },
     "execution_count": 46,
     "metadata": {},
     "output_type": "execute_result"
    }
   ],
   "source": [
    "\n",
    "svc_optimized = SVC(kernel='rbf', gamma=0.1, C=0.1)\n",
    "svc_optimized.fit(X_train_selected, y_train_rus)"
   ]
  },
  {
   "cell_type": "code",
   "execution_count": 47,
   "id": "4cfa050b",
   "metadata": {},
   "outputs": [],
   "source": [
    "\n",
    "y_train_pred_svc_o = svc_optimized.predict(X_train_selected)\n",
    "y_test_pred_svc_o = svc_optimized.predict(X_test_selected)"
   ]
  },
  {
   "cell_type": "markdown",
   "id": "debf4aba",
   "metadata": {},
   "source": [
    "## Perhitungan Performance"
   ]
  },
  {
   "cell_type": "code",
   "execution_count": 48,
   "id": "849a0c0e",
   "metadata": {},
   "outputs": [],
   "source": [
    "from sklearn.metrics import classification_report"
   ]
  },
  {
   "cell_type": "code",
   "execution_count": 49,
   "id": "568ff9c3",
   "metadata": {
    "scrolled": true
   },
   "outputs": [
    {
     "name": "stdout",
     "output_type": "stream",
     "text": [
      "random forest default\n",
      "              precision    recall  f1-score   support\n",
      "\n",
      "           1       0.94      0.95      0.95      1195\n",
      "           0       0.95      0.94      0.95      1195\n",
      "\n",
      "    accuracy                           0.95      2390\n",
      "   macro avg       0.95      0.95      0.95      2390\n",
      "weighted avg       0.95      0.95      0.95      2390\n",
      "\n",
      "              precision    recall  f1-score   support\n",
      "\n",
      "           1       0.14      0.58      0.22       299\n",
      "           0       0.92      0.56      0.69      2466\n",
      "\n",
      "    accuracy                           0.56      2765\n",
      "   macro avg       0.53      0.57      0.46      2765\n",
      "weighted avg       0.83      0.56      0.64      2765\n",
      "\n"
     ]
    }
   ],
   "source": [
    "# menampilkan performansi model random forest\n",
    "## default\n",
    "print('random forest default')\n",
    "\n",
    "## train\n",
    "print(classification_report(y_train_rus, y_train_pred_rf, labels=[1,0]))\n",
    "\n",
    "## test\n",
    "print(classification_report(y_test, y_test_pred_rf, labels=[1,0]))"
   ]
  },
  {
   "cell_type": "code",
   "execution_count": 50,
   "id": "b5c783eb",
   "metadata": {},
   "outputs": [
    {
     "name": "stdout",
     "output_type": "stream",
     "text": [
      "random forest optmized\n",
      "              precision    recall  f1-score   support\n",
      "\n",
      "           1       0.57      0.90      0.70      1195\n",
      "           0       0.76      0.31      0.44      1195\n",
      "\n",
      "    accuracy                           0.61      2390\n",
      "   macro avg       0.66      0.61      0.57      2390\n",
      "weighted avg       0.66      0.61      0.57      2390\n",
      "\n",
      "              precision    recall  f1-score   support\n",
      "\n",
      "           1       0.13      0.86      0.22       299\n",
      "           0       0.95      0.29      0.45      2466\n",
      "\n",
      "    accuracy                           0.36      2765\n",
      "   macro avg       0.54      0.58      0.34      2765\n",
      "weighted avg       0.86      0.36      0.42      2765\n",
      "\n"
     ]
    }
   ],
   "source": [
    "## optimized\n",
    "print('random forest optmized')\n",
    "\n",
    "## train\n",
    "print(classification_report(y_train_rus, y_train_pred_rf_o, labels=[1,0]))\n",
    "\n",
    "## test\n",
    "print(classification_report(y_test, y_test_pred_rf_o, labels=[1,0]))"
   ]
  },
  {
   "cell_type": "code",
   "execution_count": 51,
   "id": "6f1e80d4",
   "metadata": {},
   "outputs": [],
   "source": [
    "from sklearn.metrics import confusion_matrix"
   ]
  },
  {
   "cell_type": "code",
   "execution_count": 52,
   "id": "ff3d03cf",
   "metadata": {},
   "outputs": [
    {
     "name": "stdout",
     "output_type": "stream",
     "text": [
      "random forest default\n"
     ]
    },
    {
     "data": {
      "text/plain": [
       "array([[1378, 1088],\n",
       "       [ 125,  174]], dtype=int64)"
      ]
     },
     "execution_count": 52,
     "metadata": {},
     "output_type": "execute_result"
    }
   ],
   "source": [
    "# menampilkan confusion matrix data test pada model random forest\n",
    "## default\n",
    "print('random forest default')\n",
    "confusion_matrix(y_test, y_test_pred_rf)"
   ]
  },
  {
   "cell_type": "code",
   "execution_count": 53,
   "id": "0a795701",
   "metadata": {},
   "outputs": [
    {
     "name": "stdout",
     "output_type": "stream",
     "text": [
      "random forest optmized\n"
     ]
    },
    {
     "data": {
      "text/plain": [
       "array([[ 726, 1740],\n",
       "       [  42,  257]], dtype=int64)"
      ]
     },
     "execution_count": 53,
     "metadata": {},
     "output_type": "execute_result"
    }
   ],
   "source": [
    "## optimized\n",
    "print('random forest optmized')\n",
    "confusion_matrix(y_test, y_test_pred_rf_o)"
   ]
  },
  {
   "cell_type": "code",
   "execution_count": 54,
   "id": "d6f89e72",
   "metadata": {},
   "outputs": [
    {
     "name": "stdout",
     "output_type": "stream",
     "text": [
      "svm default\n",
      "              precision    recall  f1-score   support\n",
      "\n",
      "           1       0.59      0.06      0.11      1195\n",
      "           0       0.50      0.96      0.66      1195\n",
      "\n",
      "    accuracy                           0.51      2390\n",
      "   macro avg       0.55      0.51      0.38      2390\n",
      "weighted avg       0.55      0.51      0.38      2390\n",
      "\n",
      "              precision    recall  f1-score   support\n",
      "\n",
      "           1       0.07      0.03      0.05       299\n",
      "           0       0.89      0.95      0.92      2466\n",
      "\n",
      "    accuracy                           0.85      2765\n",
      "   macro avg       0.48      0.49      0.48      2765\n",
      "weighted avg       0.80      0.85      0.82      2765\n",
      "\n"
     ]
    }
   ],
   "source": [
    "# menampilkan performansi model svm\n",
    "## default\n",
    "print('svm default')\n",
    "\n",
    "## train\n",
    "print(classification_report(y_train_rus, y_train_pred_svc, labels=[1,0]))\n",
    "\n",
    "## test\n",
    "print(classification_report(y_test, y_test_pred_svc, labels=[1,0]))"
   ]
  },
  {
   "cell_type": "code",
   "execution_count": 55,
   "id": "4c5d0755",
   "metadata": {},
   "outputs": [
    {
     "name": "stdout",
     "output_type": "stream",
     "text": [
      "svm optmized\n",
      "              precision    recall  f1-score   support\n",
      "\n",
      "           1       0.55      0.51      0.53      1195\n",
      "           0       0.54      0.59      0.56      1195\n",
      "\n",
      "    accuracy                           0.55      2390\n",
      "   macro avg       0.55      0.55      0.55      2390\n",
      "weighted avg       0.55      0.55      0.55      2390\n",
      "\n",
      "              precision    recall  f1-score   support\n",
      "\n",
      "           1       0.13      0.51      0.20       299\n",
      "           0       0.91      0.57      0.70      2466\n",
      "\n",
      "    accuracy                           0.56      2765\n",
      "   macro avg       0.52      0.54      0.45      2765\n",
      "weighted avg       0.82      0.56      0.65      2765\n",
      "\n"
     ]
    }
   ],
   "source": [
    "## optimized\n",
    "print('svm optmized')\n",
    "\n",
    "## train\n",
    "print(classification_report(y_train_rus, y_train_pred_svc_o, labels=[1,0]))\n",
    "\n",
    "## test\n",
    "print(classification_report(y_test, y_test_pred_svc_o, labels=[1,0]))"
   ]
  },
  {
   "cell_type": "code",
   "execution_count": 56,
   "id": "3475ffdd",
   "metadata": {},
   "outputs": [
    {
     "name": "stdout",
     "output_type": "stream",
     "text": [
      "svm default\n"
     ]
    },
    {
     "data": {
      "text/plain": [
       "array([[2334,  132],\n",
       "       [ 289,   10]], dtype=int64)"
      ]
     },
     "execution_count": 56,
     "metadata": {},
     "output_type": "execute_result"
    }
   ],
   "source": [
    "# menampilkan confusion matrix data test pada model svm\n",
    "## default\n",
    "print('svm default')\n",
    "confusion_matrix(y_test, y_test_pred_svc)"
   ]
  },
  {
   "cell_type": "code",
   "execution_count": 57,
   "id": "b389a4df",
   "metadata": {},
   "outputs": [
    {
     "name": "stdout",
     "output_type": "stream",
     "text": [
      "svm optmized\n"
     ]
    },
    {
     "data": {
      "text/plain": [
       "array([[1410, 1056],\n",
       "       [ 147,  152]], dtype=int64)"
      ]
     },
     "execution_count": 57,
     "metadata": {},
     "output_type": "execute_result"
    }
   ],
   "source": [
    "## optimized\n",
    "print('svm optmized')\n",
    "confusion_matrix(y_test, y_test_pred_svc_o)"
   ]
  },
  {
   "cell_type": "markdown",
   "id": "209e5c85",
   "metadata": {},
   "source": [
    "# Evaluasi"
   ]
  },
  {
   "cell_type": "markdown",
   "id": "96aab9b9",
   "metadata": {},
   "source": [
    "## Backtesting"
   ]
  },
  {
   "cell_type": "code",
   "execution_count": 58,
   "id": "78d63381",
   "metadata": {},
   "outputs": [],
   "source": [
    "# menghapus kolom yang kosong lebih dari 50%\n",
    "backtestset.drop(['kode pelanggan', 'penghasilan', 'education', 'omset', 'Penanggung', 'Usaha', 'jualan', 'tgl data'], axis=1, inplace=True)\n",
    "\n",
    "# memisahkan data kolom numerik, kolom kategorik, dan kolom kategorik biner\n",
    "backtestset_cat = backtestset[cat_columns]\n",
    "backtestset_cat_binary = backtestset[cat_columns_binary]\n",
    "backtestset_num = backtestset.drop(cat_columns+cat_columns_binary, axis=1)\n",
    "\n",
    "# imputasi data kosong pada kolom numerik\n",
    "backtestset_num_imputed = backtestset_num.fillna(X_train_num.median())\n",
    "\n",
    "# imputasi data kosong pada kolom kategorik\n",
    "backtestset_cat_imputed = backtestset_cat.copy()\n",
    "for i in backtestset_cat.columns:\n",
    "    backtestset_cat_imputed[i] = backtestset_cat[i].fillna(X_train_cat[i].mode()[0])\n",
    "\n",
    "# imputasi data kosong pada kolom kategorik biner\n",
    "backtestset_cat_binary_imputed = backtestset_cat_binary.copy()\n",
    "for i in backtestset_cat_binary.columns:\n",
    "    backtestset_cat_binary_imputed[i] = backtestset_cat_binary[i].fillna(X_train_cat_binary[i].mode()[0])\n",
    "\n",
    "# scaling untuk kolom numerik\n",
    "backtestset_num_scaled = pd.DataFrame(rscaler.transform(backtestset_num_imputed), columns=backtestset_num_imputed.columns)\n",
    "\n",
    "# encoding untuk kolom kategorik\n",
    "backtestset_cat_encoded = pd.DataFrame(ohe.transform(backtestset_cat_imputed).toarray())\n",
    "backtestset_cat_encoded.columns = ohe.get_feature_names(backtestset_cat_imputed.columns)\n",
    "\n",
    "# encoding untuk kolom kategorik biner (gender)\n",
    "backtestset_cat_binary_imputed['gender'].replace(['F', 'M'], [1, 0], inplace=True)\n",
    "\n",
    "# menggabungkan kolom numerik, kolom kategorik, dan kolom kategorik biner\n",
    "backtestset_transformed = pd.concat([backtestset_num_scaled, backtestset_cat_encoded, backtestset_cat_binary_imputed], axis=1)\n",
    "\n",
    "# menyimpan dataframe hasil seleksi fitur kedalam variabel baru\n",
    "backtestset_selected = backtestset_transformed[backtestset_transformed.columns[kbest.get_support()]]"
   ]
  },
  {
   "cell_type": "code",
   "execution_count": 63,
   "id": "f09be982",
   "metadata": {},
   "outputs": [
    {
     "data": {
      "text/html": [
       "<div>\n",
       "<style scoped>\n",
       "    .dataframe tbody tr th:only-of-type {\n",
       "        vertical-align: middle;\n",
       "    }\n",
       "\n",
       "    .dataframe tbody tr th {\n",
       "        vertical-align: top;\n",
       "    }\n",
       "\n",
       "    .dataframe thead th {\n",
       "        text-align: right;\n",
       "    }\n",
       "</style>\n",
       "<table border=\"1\" class=\"dataframe\">\n",
       "  <thead>\n",
       "    <tr style=\"text-align: right;\">\n",
       "      <th></th>\n",
       "      <th>flag</th>\n",
       "    </tr>\n",
       "  </thead>\n",
       "  <tbody>\n",
       "    <tr>\n",
       "      <th>0</th>\n",
       "      <td>1.0</td>\n",
       "    </tr>\n",
       "    <tr>\n",
       "      <th>1</th>\n",
       "      <td>1.0</td>\n",
       "    </tr>\n",
       "    <tr>\n",
       "      <th>2</th>\n",
       "      <td>0.0</td>\n",
       "    </tr>\n",
       "    <tr>\n",
       "      <th>3</th>\n",
       "      <td>0.0</td>\n",
       "    </tr>\n",
       "    <tr>\n",
       "      <th>4</th>\n",
       "      <td>0.0</td>\n",
       "    </tr>\n",
       "    <tr>\n",
       "      <th>...</th>\n",
       "      <td>...</td>\n",
       "    </tr>\n",
       "    <tr>\n",
       "      <th>3451</th>\n",
       "      <td>1.0</td>\n",
       "    </tr>\n",
       "    <tr>\n",
       "      <th>3452</th>\n",
       "      <td>0.0</td>\n",
       "    </tr>\n",
       "    <tr>\n",
       "      <th>3453</th>\n",
       "      <td>0.0</td>\n",
       "    </tr>\n",
       "    <tr>\n",
       "      <th>3454</th>\n",
       "      <td>0.0</td>\n",
       "    </tr>\n",
       "    <tr>\n",
       "      <th>3455</th>\n",
       "      <td>1.0</td>\n",
       "    </tr>\n",
       "  </tbody>\n",
       "</table>\n",
       "<p>3456 rows × 1 columns</p>\n",
       "</div>"
      ],
      "text/plain": [
       "      flag\n",
       "0      1.0\n",
       "1      1.0\n",
       "2      0.0\n",
       "3      0.0\n",
       "4      0.0\n",
       "...    ...\n",
       "3451   1.0\n",
       "3452   0.0\n",
       "3453   0.0\n",
       "3454   0.0\n",
       "3455   1.0\n",
       "\n",
       "[3456 rows x 1 columns]"
      ]
     },
     "execution_count": 63,
     "metadata": {},
     "output_type": "execute_result"
    }
   ],
   "source": [
    "# prediksi dengan model random forest default\n",
    "y_backtest = pd.DataFrame(rf.predict(backtestset_selected), columns=['flag'])\n",
    "y_backtest"
   ]
  },
  {
   "cell_type": "code",
   "execution_count": 64,
   "id": "90de1451",
   "metadata": {},
   "outputs": [],
   "source": [
    "backtestset = pd.read_csv('backtestset.csv')\n",
    "predicted_backtestset = pd.concat([backtestset, y_backtest], axis=1)\n",
    "predicted_backtestset.to_csv('predicted_backtestset.csv', index=False)"
   ]
  },
  {
   "cell_type": "code",
   "execution_count": null,
   "id": "78a554fa",
   "metadata": {},
   "outputs": [],
   "source": []
  }
 ],
 "metadata": {
  "interpreter": {
   "hash": "733a548b947f0e59f206fe8768df770be2ce8dc2ed8cab7fe950486e73e04b46"
  },
  "kernelspec": {
   "display_name": "Python [conda env:svi]",
   "language": "python",
   "name": "conda-env-svi-py"
  },
  "language_info": {
   "codemirror_mode": {
    "name": "ipython",
    "version": 3
   },
   "file_extension": ".py",
   "mimetype": "text/x-python",
   "name": "python",
   "nbconvert_exporter": "python",
   "pygments_lexer": "ipython3",
   "version": "3.8.5"
  }
 },
 "nbformat": 4,
 "nbformat_minor": 5
}
